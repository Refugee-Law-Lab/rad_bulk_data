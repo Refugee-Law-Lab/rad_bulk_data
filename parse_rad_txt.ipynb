{
 "cells": [
  {
   "cell_type": "markdown",
   "metadata": {},
   "source": [
    "### Notebook to parse text files to produce cleaned text of RAD decisions\n",
    "\n",
    "Sean Rehaag\n",
    "\n",
    "License: Creative Commons Attribution-NonCommercial 4.0 International (CC BY-NC 4.0). \n",
    "\n",
    "Dataset & Code to be cited as:\n",
    "\n",
    "Sean Rehaag, \"Refugee Appeal Division Bulk Decisions Dataset\" (2023), online: Refugee Law Laboratory <https://refugeelab.ca/bulk-data/rad/>.\n",
    "\n",
    "Notes:\n",
    "\n",
    "(1) Data Source: Immigration and Refugee Board. In the Fall of 2022, the IRB added the Refugee Law Laboratory to their email distribution list for legal publishers of RAD decisions. The RLL therefore receives new RAD cases as they are released for publication by the IRB. Also, in the fall of 2022 the Immigration and Refugee Board provided the RLL with a full backlog of approximately 116k published decisions from all divisions (RAD, RPD, ID, IAD). \n",
    "\n",
    "(2) Unofficial Data: The data are unofficial reproductions. For official versions, please contact the Immigration and Refugee Board. \n",
    "\n",
    "(3) Non-Affiliation / Endorsement: The data has been collected and reproduced without any affiliation or endorsement from the Immigration and Refugee Board.\n",
    "\n",
    "(4) Non-Commerical Use: As indicated in the license, data may be used for non-commercial use (with attribution) only. For commercial use, please contact the Immigration and Refugee Board. \n",
    "\n",
    "(5) Accuracy: Data was collected and processed programmatically for the purposes of academic research. While we make best efforts to ensure accuracy, data gathering of this kind inevitably involves errors. As such the data should be viewed as preliminary information aimed to prompt further research and discussion, rather than as definitive information.\n",
    "\n",
    "Acknowledgements: Thanks to Rafael Dolores for coding the parsing scripts.\n"
   ]
  },
  {
   "cell_type": "markdown",
   "metadata": {},
   "source": [
    "# Installing Libraries"
   ]
  },
  {
   "cell_type": "code",
   "execution_count": 1,
   "metadata": {},
   "outputs": [],
   "source": [
    "#!pip install langdetect\n",
    "#!pip install regex\n",
    "#!pip install dask"
   ]
  },
  {
   "cell_type": "markdown",
   "metadata": {},
   "source": [
    "# Importing Libraries"
   ]
  },
  {
   "cell_type": "code",
   "execution_count": 2,
   "metadata": {},
   "outputs": [],
   "source": [
    "import os\n",
    "import regex as re \n",
    "import pandas as pd\n",
    "from datetime import datetime\n",
    "from langdetect import detect, DetectorFactory\n",
    "from difflib import get_close_matches\n",
    "import json\n",
    "from tqdm import tqdm\n",
    "import chardet\n",
    "import dask.bag as db\n",
    "from dask.diagnostics import ProgressBar\n",
    "import pathlib"
   ]
  },
  {
   "cell_type": "markdown",
   "metadata": {},
   "source": [
    "## Declaring Constant\n",
    "Here, we specify the directories containing our data files."
   ]
  },
  {
   "cell_type": "code",
   "execution_count": 3,
   "metadata": {},
   "outputs": [],
   "source": [
    "DATA_DIRS = [\"../RAD Decisions TEXT\", \"../IRB Decisions - Initial Request - TEXT\"]\n",
    "\n",
    "# For SR:\n",
    "DATA_DIRS = [\"d:/RAD Decisions TEXT/\", \"d:/IRB Decisions - Initial Request - TEXT/\"]"
   ]
  },
  {
   "cell_type": "code",
   "execution_count": 4,
   "metadata": {},
   "outputs": [],
   "source": [
    "# set seed for langdetect for consistent results and reproducibility\n",
    "DetectorFactory.seed = 42"
   ]
  },
  {
   "cell_type": "markdown",
   "metadata": {},
   "source": [
    "\n",
    "\n",
    "## Language Detection\n",
    "This function determines the language of a given text."
   ]
  },
  {
   "cell_type": "code",
   "execution_count": 5,
   "metadata": {
    "scrolled": false
   },
   "outputs": [],
   "source": [
    "def detect_language(text):\n",
    "    try:\n",
    "        return detect(text)\n",
    "    except:\n",
    "        return None"
   ]
  },
  {
   "cell_type": "markdown",
   "metadata": {},
   "source": [
    "## Decision Maker Extraction\n",
    "This function searches the given file for the decision maker using regular expressions."
   ]
  },
  {
   "cell_type": "code",
   "execution_count": 6,
   "metadata": {},
   "outputs": [],
   "source": [
    "def extract_decision_maker(content):\n",
    "    patterns = [\n",
    "        # String in line immediately after 'Panel' and before 'Tribunal', allowing tabs and spaces\n",
    "        r\"^Panel\\s*([^\\n]+?)\\s*\\n\\s*Tribunal\\s*$\",  \n",
    "      \n",
    "        # String in line immediately after 'Tribunal' and before 'Panel', allowing tabs and spaces\n",
    "        r\"^Tribunal\\s*([^\\n]+?)\\s*\\n\\s*Panel\\s*$\",\n",
    "        # String in line immediately after 'Tribunal' and followed by another 'Tribunal', allowing tabs and spaces\n",
    "        r\"^Tribunal\\s*([^\\n]+?)\\s*\\n\\s*Tribunal\\s*$\"\n",
    "    ]\n",
    "\n",
    "    for pattern in patterns:\n",
    "        # Use re.MULTILINE to allow ^ and $ to match the start and end of each line\n",
    "        match = re.search(pattern, content, re.IGNORECASE | re.MULTILINE)\n",
    "        if match:\n",
    "            captured = match.group(1).strip()\n",
    "            # Check if captured group ends with 'Tribunal' or 'Panel' and exclude it\n",
    "            if not captured.endswith(\"Tribunal\") and not captured.endswith(\"Panel\"):\n",
    "                return captured\n",
    "    return None\n"
   ]
  },
  {
   "cell_type": "markdown",
   "metadata": {},
   "source": [
    "\n",
    "## Regular Expression Detector\n",
    "Functions to parse the date from text files while accounting for several different formats"
   ]
  },
  {
   "cell_type": "code",
   "execution_count": 7,
   "metadata": {},
   "outputs": [],
   "source": [
    "def match_date_patterns(content):\n",
    "    patterns = {\n",
    "        \"custom\": (r\"Date (?:of decision|de la décision)\\s*\\n\\s*([A-Za-z]+)\\s+(\\d{1,2})\\.\\s*(\\d{4})\", lambda m: [m.group(1), m.group(2), m.group(3)]),\n",
    "        \"primary\": (r\"Date (?:of decision|de la décision)\\s*(?:Le )?\\s*((?:(?:\\d{1,2}|1er)\\s+[\\w]+\\s*,?\\s*\\d{1,4})|\\w+\\s+\\d{1,2}(?:st|nd|rd|th)?\\s*,?\\s*\\d{1,4}|\\d{1,2}-\\d{1,2}-\\d{1,4})\", lambda m: m.group(1).replace(',', '').split()),\n",
    "        \"original_decision\": (r\"Date of decision\\s+([\\w\\s]+),\\s+(\\d{4})\\s+\\(original decision\\)\", lambda m: m.group(1).strip().split() + [m.group(2).strip()]),\n",
    "        \"tribunal\": (r\"Tribunal\\s*\\n\\s*([\\w\\s]+?)\\s*\\n\\s*Date of decision\", lambda m: m.group(1).replace(',', '').split()),\n",
    "        \"original\": (r\"Original\\s+([\\w]+\\s+\\d{1,2}(?:st|nd|rd|th)?,?\\s+\\d{4})\", lambda m: m.group(1).replace(',', '').split())\n",
    "    }\n",
    "\n",
    "    for key, (pattern, process) in patterns.items():\n",
    "        match = re.search(pattern, content, re.IGNORECASE)\n",
    "        if match:\n",
    "            return process(match)\n",
    "\n",
    "    return None"
   ]
  },
  {
   "cell_type": "markdown",
   "metadata": {},
   "source": [
    "## Date Formatter\n",
    "Takes detected regular expression and converts into one common format"
   ]
  },
  {
   "cell_type": "code",
   "execution_count": 8,
   "metadata": {},
   "outputs": [],
   "source": [
    "french_to_english = {\n",
    "        'janvier': 'January', 'fevrier': 'February', 'mars': 'March', 'avril': 'April',\n",
    "        'mai': 'May', 'juin': 'June', 'juillet': 'July', 'aout': 'August',\n",
    "        'septembre': 'September', 'octobre': 'October', 'novembre': 'November', 'decembre': 'December'\n",
    "}\n",
    "\n",
    "def correct_month_name(misspelled_month, possibilities=['Janvier','January', 'February', 'March', 'April', 'May', 'June', 'July', 'August', 'September', 'October', 'November', 'December'], cutoff=0.6):\n",
    "    correct_months = get_close_matches(misspelled_month, possibilities, n=1, cutoff=cutoff)\n",
    "    if correct_months:\n",
    "        corrected_month = correct_months[0]\n",
    "        # Check if the corrected month is in the French to English mapping\n",
    "        return french_to_english.get(corrected_month.lower(), corrected_month)\n",
    "    else:\n",
    "        return misspelled_month\n",
    "\n",
    "def correct_year_typo(year):\n",
    "    if len(year) == 3 and year.startswith(\"0\"):\n",
    "        return \"20\" + year[1:]\n",
    "    return year\n",
    "\n",
    "def correct_year_typo(year):\n",
    "    \"\"\"Corrects year format typos.\"\"\"\n",
    "    return \"20\" + year[1:] if len(year) == 3 and year.startswith(\"0\") else year\n",
    "\n",
    "def process_numeric_format(parts):\n",
    "    \"\"\"Processes numeric date format 'dd-mm-yyyy'.\"\"\"\n",
    "    day, month, year = parts[0].split('-')\n",
    "    year = correct_year_typo(year)\n",
    "    return datetime(int(year), int(month), int(day)).date().strftime('%Y-%m-%d')\n",
    "\n",
    "def process_day_first_format(parts, french_month_mapping):\n",
    "    \"\"\"Processes dates in 'day month year' format, French or English.\"\"\"\n",
    "    day = 1 if parts[0].lower() == '1er' else int(parts[0])\n",
    "\n",
    "    month = ''\n",
    "    # Check if month and year are concatenated\n",
    "    if len(parts) == 2 and not parts[1].isdigit():\n",
    "        month_year_str = parts[1]\n",
    "        for i in range(1, len(month_year_str)):\n",
    "            if month_year_str[i:].isdigit():\n",
    "                month_str, year_str = month_year_str[:i], month_year_str[i:]\n",
    "                year = correct_year_typo(year_str)\n",
    "                month = french_month_mapping.get(month_str.lower().replace('é', 'e').replace('û', 'u').replace('ô', 'o'), month_str.capitalize())\n",
    "                break\n",
    "    else:\n",
    "        month = parts[1].lower().replace('é', 'e').replace('û', 'u').replace('ô', 'o')\n",
    "        year = correct_year_typo(parts[2])\n",
    "\n",
    "    if month in french_month_mapping:\n",
    "        return datetime(int(year), french_month_mapping[month], day).date().strftime('%Y-%m-%d')\n",
    "    else:\n",
    "        if isinstance(month, int):\n",
    "            return datetime(int(year), month, day).date().strftime('%Y-%m-%d')\n",
    "        \n",
    "        corrected_month = correct_month_name(month.capitalize())\n",
    "        try:\n",
    "            return datetime.strptime(f\"{corrected_month} {day} {year}\", '%B %d %Y').date().strftime('%Y-%m-%d')\n",
    "        except ValueError as e:\n",
    "            print(f\"Error parsing date: {e}\")\n",
    "            return None\n",
    "\n",
    "def process_month_first_format(parts):\n",
    "    \"\"\"Processes month first format with possible ordinal suffix.\"\"\"\n",
    "    day = 0\n",
    "    month = ''\n",
    "    year = ''\n",
    "    \n",
    "    if len(parts) == 2 and parts[1].isdigit() and len(parts[1]) > 2:\n",
    "        \n",
    "        if parts[1].isdigit() and len(parts[1]) > 4: \n",
    "            month = parts[0]\n",
    "            year_str = parts[1][-4:]\n",
    "            day_str = parts[1][:-4]\n",
    "            year = year_str\n",
    "            day = int(day_str)\n",
    "            \n",
    "        elif parts[1].isdigit()and len(parts[1]) > 3: #Year is the second entry\n",
    "            month_day_str = parts[0]\n",
    "            for i in range(1, len(month_day_str)):\n",
    "                if not month_day_str[i].isdigit():\n",
    "                    day_str, month_str = month_day_str[:i], month_day_str[i:]\n",
    "                    day = int(day_str)\n",
    "                    month = french_to_english.get(month_str.lower().replace('é', 'e').replace('û', 'u').replace('ô', 'o'), month_str)\n",
    "                    parts[0] = month\n",
    "                    break\n",
    "            year = parts[1]\n",
    "        else:\n",
    "            year_str = parts[1][-4:]\n",
    "            day_str = parts[1][:-4]\n",
    "            year = correct_year_typo(year_str)\n",
    "            day = int(day_str)\n",
    "\n",
    "    else:\n",
    "        day = re.sub(r\"[^\\d]\", \"\", parts[1])\n",
    "        day = int(day) if day.isdigit() else 1\n",
    "        year = correct_year_typo(parts[2])\n",
    "        \n",
    "    \n",
    "    try:\n",
    "        corrected_month = correct_month_name(parts[0].capitalize())\n",
    "        return datetime.strptime(f\"{corrected_month} {day} {year}\", '%B %d %Y').date().strftime('%Y-%m-%d')\n",
    "    except ValueError as e:\n",
    "        print(f\"Error parsing date: {e}\")\n",
    "        return None\n"
   ]
  },
  {
   "cell_type": "markdown",
   "metadata": {},
   "source": [
    "## Document Date Extraction\n",
    "This function searches the given file for the document date using regular expressions, taking into account both French and English texts."
   ]
  },
  {
   "cell_type": "code",
   "execution_count": 9,
   "metadata": {},
   "outputs": [],
   "source": [
    "def process_date_parts(parts, french_month_mapping):\n",
    "    \"\"\"Determines the correct date processing method based on the format of the parts.\"\"\"\n",
    "    if '-' in parts[0]:\n",
    "        return process_numeric_format(parts)\n",
    "    elif parts[0].isdigit() or parts[0].lower() == '1er':\n",
    "        return process_day_first_format(parts, french_month_mapping)\n",
    "    else:\n",
    "        return process_month_first_format(parts)\n",
    "\n",
    "def extract_document_date(content):\n",
    "    french_month_mapping = {\n",
    "        'janvier': 1, 'fevrier': 2, 'mars': 3, 'avril': 4,\n",
    "        'mai': 5, 'juin': 6, 'juillet': 7, 'aout': 8,\n",
    "        'septembre': 9, 'octobre': 10, 'novembre': 11, 'decembre': 12\n",
    "    }\n",
    "    \n",
    "    parts = match_date_patterns(content)\n",
    "    \n",
    "    if not parts:\n",
    "        return None\n",
    "    return process_date_parts(parts, french_month_mapping)"
   ]
  },
  {
   "cell_type": "markdown",
   "metadata": {},
   "source": [
    "## File Processor Helpers"
   ]
  },
  {
   "cell_type": "code",
   "execution_count": 10,
   "metadata": {},
   "outputs": [],
   "source": [
    "def extract_rad_number(content):\n",
    "    \"\"\"Extracts the RAD number from the content, ignoring IAD files.\"\"\"\n",
    "    # Check for lines indicating the file should be ignored\n",
    "    ignore_lines = [\"IAD File\",\n",
    "                    \"IMMIGRATION APPEAL DIVISION\", \n",
    "                    \"ID File\", \n",
    "                    \"IMMIGRATION DIVISION\", \n",
    "                    \"RPD File\", \n",
    "                    \"RPD file\",\n",
    "                    \"REFUGEE PROTECTION DIVISION\", \n",
    "                    \"REFUGEE DIVISION\"\n",
    "                    ]\n",
    "    \n",
    "    \n",
    "    for line in content.splitlines():\n",
    "     \n",
    "        if any(ignore_line in line for ignore_line in ignore_lines):       \n",
    "            return None\n",
    "                \n",
    "        sanitized_line = ''.join(c for c in line if c.isprintable()).strip()\n",
    "    \n",
    "        if \"RAD File\" in sanitized_line :\n",
    "            \n",
    "            rad_number_match = re.search(r\"([A-Z]{2}\\d+.\\d+)\", sanitized_line)\n",
    "            if rad_number_match:\n",
    "                return rad_number_match.group(1)\n",
    "            \n",
    "            # If RAD is in the next immediate line\n",
    "            next_line_index = content.splitlines().index(line) + 1\n",
    "            if next_line_index < len(content.splitlines()):\n",
    "                next_line = content.splitlines()[next_line_index]\n",
    "                rad_number_match = re.search(r\"([A-Z]{2}\\d+-\\d+)\", next_line)\n",
    "                if rad_number_match:\n",
    "                    return rad_number_match.group(1)\n",
    "              \n",
    "    return None\n",
    "\n",
    "def process_file(file_path):\n",
    "    \"\"\"Processes a single file and extracts data.\"\"\"\n",
    "\n",
    "    # Use chardet to detect the encoding of the file\n",
    "    with open(file_path, 'rb') as file:\n",
    "        raw_data = file.read()\n",
    "    encoding = chardet.detect(raw_data)['encoding']\n",
    "\n",
    "    # Read the file with the detected encoding\n",
    "    with open(file_path, 'r', errors='replace', encoding=encoding) as file:\n",
    "        content = file.read()\n",
    "\n",
    "    rad_number = extract_rad_number(content)\n",
    "    if rad_number:\n",
    "        lang = detect_language(content)\n",
    "        decision_maker_name = extract_decision_maker(content)\n",
    "        document_date = extract_document_date(content)\n",
    "        year = int(document_date.split('-')[0]) if document_date else None\n",
    "\n",
    "        return {\n",
    "            'citation1': rad_number,\n",
    "            'citation2': '',\n",
    "            'dataset': 'RAD',\n",
    "            'name': '',\n",
    "            'source_url': os.path.basename(file_path),\n",
    "            #'scraped_timestamp': datetime.now().strftime('%Y-%m-%d %H:%M:%S'),\n",
    "            'scraped_timestamp': datetime.fromtimestamp(os.path.getmtime(file_path)).strftime('%Y-%m-%d %H:%M:%S'),\n",
    "            'document_date': document_date,\n",
    "            'year': year,\n",
    "            'unofficial_text': content,\n",
    "            'language': lang,\n",
    "            'other': json.dumps({'decision-maker_name': decision_maker_name}, ensure_ascii=False),\n",
    "        }\n",
    "    return None"
   ]
  },
  {
   "cell_type": "markdown",
   "metadata": {},
   "source": [
    "## Processing Files\n",
    "This block of code reads each file in the dataset directories to extract the needed information, using the previously defined functions and form a Pandas dataframe."
   ]
  },
  {
   "cell_type": "code",
   "execution_count": 11,
   "metadata": {
    "scrolled": true
   },
   "outputs": [
    {
     "name": "stdout",
     "output_type": "stream",
     "text": [
      "[########################################] | 100% Completed | 219.47 s\n"
     ]
    }
   ],
   "source": [
    "# Main data processing loop (run in paraellel using Dask)\n",
    "\n",
    "def process_file_wrapper(file_path):\n",
    "    if not os.path.basename(file_path).startswith('~'):\n",
    "        return process_file(file_path)\n",
    "\n",
    "# Gather all file paths\n",
    "file_paths = []\n",
    "for data_dir in DATA_DIRS:\n",
    "    if os.path.exists(data_dir) and os.path.isdir(data_dir):\n",
    "        dir_files = [os.path.join(data_dir, f) for f in os.listdir(data_dir)]\n",
    "        file_paths.extend(dir_files)\n",
    "\n",
    "# Create a Dask Bag from file paths\n",
    "file_bag = db.from_sequence(file_paths)\n",
    "\n",
    "# Use Dask to process files in parallel\n",
    "with ProgressBar():\n",
    "    results = file_bag.map(process_file_wrapper).filter(lambda x: x is not None).compute()\n",
    "\n",
    "# Convert results to a Pandas DataFrame\n",
    "df = pd.DataFrame(results)"
   ]
  },
  {
   "cell_type": "markdown",
   "metadata": {},
   "source": [
    "### Data cleaning\n",
    "Cleans data to match huggingface dataset"
   ]
  },
  {
   "cell_type": "code",
   "execution_count": 12,
   "metadata": {},
   "outputs": [
    {
     "name": "stdout",
     "output_type": "stream",
     "text": [
      "28031\n",
      "27983\n",
      "27554\n"
     ]
    }
   ],
   "source": [
    "# fix dates format\n",
    "df['document_date'] = pd.to_datetime(df['document_date']).dt.strftime('%Y-%m-%d')\n",
    "df['scraped_timestamp'] = pd.to_datetime(df['scraped_timestamp']).dt.strftime('%Y-%m-%d')\n",
    "\n",
    "print (len(df))\n",
    "# drop where year is nan\n",
    "df = df.dropna(subset=['year'])\n",
    "print (len(df))\n",
    "# convert year to int\n",
    "df['year'] = df['year'].astype(int)\n",
    "\n",
    "# Remove rows where unofficial text is duplicated, keeping the last one\n",
    "df = df.drop_duplicates(subset=['unofficial_text'], keep='last')\n",
    "print (len(df))\n",
    "#df\n",
    "\n"
   ]
  },
  {
   "cell_type": "code",
   "execution_count": 13,
   "metadata": {},
   "outputs": [
    {
     "name": "stderr",
     "output_type": "stream",
     "text": [
      "100%|██████████| 27554/27554 [00:37<00:00, 742.25it/s]\n"
     ]
    }
   ],
   "source": [
    "# Clean text of cases\n",
    "def clean_text(text):\n",
    "\n",
    "    # remove \\xa0\n",
    "    text = text.replace('\\xa0', ' ')\n",
    "\n",
    "    # Remove multiple whitespaces and preserve paragraphs\n",
    "    text = '\\n'.join([re.sub(r'\\s+', ' ', line.strip()) for line in text.split('\\n')])\n",
    "    \n",
    "    # # Remove single newlines\n",
    "    # text = re.sub(r'(?<!\\n)\\n(?!\\n)', ' ', text)\n",
    "\n",
    "    # Convert multiple newlines to single newlines\n",
    "    text = re.sub(r'\\n+', '\\n', text)\n",
    "\n",
    "    # Remove all strings '\\n[Page #]\\n' (with # being a number of up to 4 digits \n",
    "    text = re.sub(r'\\n\\[Page \\d{1,3}\\]\\n', ' ', text)\n",
    "    \n",
    "    return text\n",
    "\n",
    "tqdm.pandas()\n",
    "df['unofficial_text'] = df.unofficial_text.progress_apply(clean_text)"
   ]
  },
  {
   "cell_type": "markdown",
   "metadata": {},
   "source": [
    "### Exports"
   ]
  },
  {
   "cell_type": "code",
   "execution_count": 14,
   "metadata": {},
   "outputs": [],
   "source": [
    "# export cleaned df to jsonl\n",
    "out_path_parsed = pathlib.Path('DATA/rad_cases.jsonl')\n",
    "df.to_json(out_path_parsed, orient='records', lines=True)"
   ]
  },
  {
   "cell_type": "code",
   "execution_count": 15,
   "metadata": {},
   "outputs": [],
   "source": [
    "# export cleaned df to parquet\n",
    "out_path_parquet = pathlib.Path('DATA/rad_cases.parquet')\n",
    "df.to_parquet(out_path_parquet)"
   ]
  },
  {
   "cell_type": "code",
   "execution_count": 16,
   "metadata": {},
   "outputs": [
    {
     "name": "stderr",
     "output_type": "stream",
     "text": [
      "100%|██████████| 14/14 [00:01<00:00,  9.78it/s]\n"
     ]
    }
   ],
   "source": [
    "# get start and end year\n",
    "start_year = df['year'].min()\n",
    "end_year = df['year'].max()\n",
    "\n",
    "# set output dir\n",
    "out_path_yearly = 'DATA/YEARLY/'\n",
    "\n",
    "# export cleaned df to yearly / language json files\n",
    "for year in tqdm(range(start_year, end_year+1)):\n",
    "    for language in ['en', 'fr']:\n",
    "        out_path_yearly_lang = out_path_yearly + f'{year}_{language}.json'\n",
    "        df[(df.year == year) & (df.language == language)].to_json(out_path_yearly_lang, orient='records', indent=4)"
   ]
  }
 ],
 "metadata": {
  "kernelspec": {
   "display_name": "Python 3 (ipykernel)",
   "language": "python",
   "name": "python3"
  },
  "language_info": {
   "codemirror_mode": {
    "name": "ipython",
    "version": 3
   },
   "file_extension": ".py",
   "mimetype": "text/x-python",
   "name": "python",
   "nbconvert_exporter": "python",
   "pygments_lexer": "ipython3",
   "version": "3.11.4"
  }
 },
 "nbformat": 4,
 "nbformat_minor": 2
}
